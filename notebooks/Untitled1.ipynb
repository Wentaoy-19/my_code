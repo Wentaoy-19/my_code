{
 "cells": [
  {
   "cell_type": "code",
   "execution_count": 3,
   "metadata": {},
   "outputs": [
    {
     "ename": "SyntaxError",
     "evalue": "invalid character in identifier (<ipython-input-3-72bf5c6e2e4d>, line 4)",
     "output_type": "error",
     "traceback": [
      "\u001b[1;36m  File \u001b[1;32m\"<ipython-input-3-72bf5c6e2e4d>\"\u001b[1;36m, line \u001b[1;32m4\u001b[0m\n\u001b[1;33m    os.system('fsutil.exe file SetCaseSensitiveInfo ' + folderName + ' enable')\u001b[0m\n\u001b[1;37m                                                                                 ^\u001b[0m\n\u001b[1;31mSyntaxError\u001b[0m\u001b[1;31m:\u001b[0m invalid character in identifier\n"
     ]
    }
   ],
   "source": [
    "import os\n",
    "path = r'D:'\n",
    "for folderName, subfolders, fileNames in os.walk(path):\n",
    "    os.system('fsutil.exe file SetCaseSensitiveInfo ' + folderName + ' enable')   "
   ]
  },
  {
   "cell_type": "code",
   "execution_count": 5,
   "metadata": {},
   "outputs": [],
   "source": [
    "import os\n",
    "path = r'D:'\n",
    "for folderName, subfolders, fileNames in os.walk(path):\n",
    "    os.system('fsutil.exe file SetCaseSensitiveInfo'+folderName+'enable')"
   ]
  },
  {
   "cell_type": "code",
   "execution_count": null,
   "metadata": {},
   "outputs": [],
   "source": [
    "getfattr -n system.wsl_case_sensitive \"/mnt/d/test/\""
   ]
  }
 ],
 "metadata": {
  "kernelspec": {
   "display_name": "Python 3",
   "language": "python",
   "name": "python3"
  },
  "language_info": {
   "codemirror_mode": {
    "name": "ipython",
    "version": 3
   },
   "file_extension": ".py",
   "mimetype": "text/x-python",
   "name": "python",
   "nbconvert_exporter": "python",
   "pygments_lexer": "ipython3",
   "version": "3.8.5"
  }
 },
 "nbformat": 4,
 "nbformat_minor": 4
}
